{
 "cells": [
  {
   "cell_type": "code",
   "execution_count": null,
   "metadata": {},
   "outputs": [],
   "source": [
    "from PIL import Image, ImageFilter\n",
    "import numpy as np\n",
    "import matplotlib.pyplot as plt\n",
    "from scipy import signal"
   ]
  },
  {
   "cell_type": "code",
   "execution_count": null,
   "metadata": {
    "scrolled": false
   },
   "outputs": [],
   "source": [
    "img = Image.open(\"FR01.jpg\")\n",
    "img.load()\n",
    "img=img.resize((1600,900))\n",
    "img_color = img.convert(\"RGB\")\n",
    "data_color = np.asarray(img_color, dtype=\"int32\")\n",
    "img_gray = img.convert(\"LA\")\n",
    "data = np.asarray(img_gray, dtype=\"int32\")\n",
    "data = data.astype(\"float32\")[:,:,0]/255\n",
    "img.close()\n",
    "conv_kernels = list()\n",
    "conv_kernels.append(np.array([[-1,0,1], [-1,0,1], [-1,0,1]]))\n",
    "conv_kernels.append(np.array([[1,0,-1], [1,0,-1], [1,0,-1]]))\n",
    "conv_kernels.append(np.array([[-1,-1,-1], [0,0,0], [1,1,1]]))\n",
    "conv_kernels.append(np.array([[1,1,1], [0,0,0], [-1,-1,-1]]))\n",
    "conv_kernels.append(np.array([[0,-1,-1], [1,0,-1], [1,1,0]]))\n",
    "conv_kernels.append(np.array([[-1,-1,0], [-1,0,1], [0,1,1]]))\n",
    "#conv_kernels.append(np.array([[1/9,1/9,1/9], [1/9,1/9,1/9], [1/9,1/9,1/9]]))\n",
    "conv_kernels.append(np.ones((13, 13), dtype=np.float64)/169)\n",
    "conv_kernels.append(np.array([[-1,0,0], [0,1,0], [0,0,-1]]))\n",
    "\n",
    "fig = plt.figure(figsize=(30,80))\n",
    "num_kernels = len(conv_kernels)\n",
    "fig.add_subplot(num_kernels + 1, 1, 1)\n",
    "plt.imshow(data, cmap='gray')\n",
    "for i in range(num_kernels):\n",
    "    cdata = signal.convolve2d(data, conv_kernels[i], 'valid')\n",
    "    fig.add_subplot(num_kernels + 1, 1, i+2)\n",
    "    plt.imshow(cdata, cmap='gray')\n",
    "plt.show()\n"
   ]
  },
  {
   "cell_type": "code",
   "execution_count": null,
   "metadata": {},
   "outputs": [],
   "source": []
  }
 ],
 "metadata": {
  "kernelspec": {
   "display_name": "Python 3",
   "language": "python",
   "name": "python3"
  },
  "language_info": {
   "codemirror_mode": {
    "name": "ipython",
    "version": 3
   },
   "file_extension": ".py",
   "mimetype": "text/x-python",
   "name": "python",
   "nbconvert_exporter": "python",
   "pygments_lexer": "ipython3",
   "version": "3.6.9"
  }
 },
 "nbformat": 4,
 "nbformat_minor": 4
}
