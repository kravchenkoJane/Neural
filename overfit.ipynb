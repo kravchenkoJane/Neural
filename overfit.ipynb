{
 "cells": [
  {
   "cell_type": "code",
   "execution_count": null,
   "metadata": {},
   "outputs": [],
   "source": [
    "import tensorflow as tf\n",
    "mnist = tf.keras.datasets.mnist\n",
    "import matplotlib.pyplot as plt"
   ]
  },
  {
   "cell_type": "code",
   "execution_count": null,
   "metadata": {},
   "outputs": [],
   "source": [
    "mnist = tf.keras.datasets.mnist\n",
    "(x_train, y_train),(x_test, y_test) = mnist.load_data()\n",
    "x_train, x_test = x_train/255.0, x_test/255.0\n",
    "model = tf.keras.models.Sequential([\n",
    "tf.keras.layers.Flatten(input_shape=(28, 28)),\n",
    "tf.keras.layers.Dense(200, activation=tf.nn.relu),\n",
    "tf.keras.layers.Dense(100, activation=tf.nn.relu),\n",
    "tf.keras.layers.Dense(100, activation=tf.nn.relu),\n",
    "#tf.keras.layers.Dropout(0.2),\n",
    "tf.keras.layers.Dense(10, activation=tf.nn.softmax)\n",
    "])\n",
    "model.compile(optimizer='adam',\n",
    "loss='sparse_categorical_crossentropy',\n",
    "metrics=['accuracy'])\n",
    "history=model.fit(x_train, y_train, epochs=60)\n",
    "historyT=model.fit(x_test, y_test, epochs=2)\n",
    "model.evaluate(x_test, y_test)\n"
   ]
  },
  {
   "cell_type": "code",
   "execution_count": null,
   "metadata": {},
   "outputs": [],
   "source": [
    "def display_digit(num):\n",
    "    label = y_test[num]\n",
    "    image = x_test[num]\n",
    "    plt.title('Example: {}  Label: {}'.format(num, label))\n",
    "    plt.imshow(image, cmap=plt.get_cmap('gray_r'))\n",
    "    plt.show()"
   ]
  },
  {
   "cell_type": "code",
   "execution_count": null,
   "metadata": {},
   "outputs": [],
   "source": [
    "#history=model.fit(x_train, y_train, epochs=40)\n",
    "plt.plot(history.history['acc'])\n",
    "#historyT=model.fit(x_test, y_test, epochs=2)\n",
    "plt.plot(historyT.history['acc'])\n",
    "plt.title('model accuracy')\n",
    "plt.ylabel('accuracy')\n",
    "plt.xlabel('epoch')\n",
    "plt.legend(['train', 'test'], loc='upper left')\n",
    "plt.show()\n",
    "# summarize history for loss\n",
    "plt.plot(history.history['loss'])\n",
    "plt.plot(historyT.history['loss'])\n",
    "plt.title('model loss')\n",
    "plt.ylabel('loss')\n",
    "plt.xlabel('epoch')\n",
    "plt.legend(['train', 'test'], loc='upper left')\n",
    "plt.show()\n",
    "#history=model.fit(x_test, y_test, epochs=1)\n",
    "#plt.xlim([0, 40])\n",
    "#plt.show()\n",
    "#plt.bar(history.epoch, history.accuracy)\n",
    "#plt.show()\n"
   ]
  },
  {
   "cell_type": "code",
   "execution_count": null,
   "metadata": {},
   "outputs": [],
   "source": [
    "sess = tf.compat.v1.Session()"
   ]
  },
  {
   "cell_type": "code",
   "execution_count": null,
   "metadata": {},
   "outputs": [],
   "source": [
    "from IPython.display import clear_output\n",
    "\n",
    "i_max=1\n",
    "g_max=0.0\n",
    "y_true = tf.placeholder(tf.float32)\n",
    "for i in range(300):\n",
    "    predictions = model.predict(x_train[i:i+1,:,:])\n",
    "    guess_sm = tf.nn.softmax(predictions)\n",
    "    g = guess_sm.eval(session=sess)\n",
    "    g_loss = tf.keras.losses.sparse_categorical_crossentropy(y_train[i], guess_sm)\n",
    "    g = g_loss.eval(session=sess)\n",
    "    clear_output(wait=True)\n",
    "    print(i)\n",
    "    if g > g_max:\n",
    "        g_max=g\n",
    "        i=i_max\n",
    "print(g_max)\n",
    "display_digit(i_max)\n",
    "print(y_train[i_max])"
   ]
  },
  {
   "cell_type": "code",
   "execution_count": null,
   "metadata": {},
   "outputs": [],
   "source": [
    "sess.close()"
   ]
  },
  {
   "cell_type": "code",
   "execution_count": null,
   "metadata": {},
   "outputs": [],
   "source": [
    "predictions = model.predict(x_train[2:3,:,:])\n",
    "print(predictions)\n",
    "guess_sm = tf.nn.softmax(predictions)\n",
    "g = guess_sm.eval(session=sess)\n",
    "g_loss = tf.keras.losses.sparse_categorical_crossentropy(y_train[2], guess_sm)\n",
    "print(g_loss.eval(session=sess))\n",
    "print(y_train[2])"
   ]
  },
  {
   "cell_type": "code",
   "execution_count": null,
   "metadata": {},
   "outputs": [],
   "source": []
  }
 ],
 "metadata": {
  "kernelspec": {
   "display_name": "Python 3",
   "language": "python",
   "name": "python3"
  },
  "language_info": {
   "codemirror_mode": {
    "name": "ipython",
    "version": 3
   },
   "file_extension": ".py",
   "mimetype": "text/x-python",
   "name": "python",
   "nbconvert_exporter": "python",
   "pygments_lexer": "ipython3",
   "version": "3.6.7"
  }
 },
 "nbformat": 4,
 "nbformat_minor": 2
}
