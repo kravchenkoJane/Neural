{
 "cells": [
  {
   "cell_type": "code",
   "execution_count": null,
   "metadata": {},
   "outputs": [],
   "source": [
    "import platform\n",
    "import tensorflow as tf\n",
    "import matplotlib.pyplot as plt\n",
    "import numpy as np\n",
    "from tensorflow.keras.models import Model, Sequential\n",
    "import random\n",
    "from tqdm import tqdm\n",
    "from tensorflow.keras.layers import Dense, Dropout"
   ]
  },
  {
   "cell_type": "code",
   "execution_count": null,
   "metadata": {},
   "outputs": [],
   "source": [
    "def discriminator(n_inputs):\n",
    "    discriminator = Sequential()\n",
    "    discriminator.add(Dense(25, activation='relu', kernel_initializer='he_uniform', input_dim=n_inputs))\n",
    "    discriminator.add(Dense(25, activation='relu', kernel_initializer='he_uniform'))\n",
    "    discriminator.add(Dense(1, activation='sigmoid'))\n",
    "    return discriminator"
   ]
  },
  {
   "cell_type": "code",
   "execution_count": null,
   "metadata": {},
   "outputs": [],
   "source": [
    "latent_dim=5"
   ]
  },
  {
   "cell_type": "code",
   "execution_count": null,
   "metadata": {},
   "outputs": [],
   "source": [
    "training_size=1000\n",
    "x_train = np.expand_dims(np.linspace(-100, 100, training_size), axis=1)\n",
    "ys_train = x_train*x_train\n",
    "x_train = np.append(x_train, ys_train, axis=1)\n",
    "y_train=np.zeros((1, training_size), dtype='int32')\n",
    "\"\"\"for i in range(training_size):\n",
    "    random.seed()\n",
    "    rand=np.random.randint(0,2)\n",
    "    y_train[0][i]=rand\n",
    "    if (rand==1):\n",
    "        x_train[i][1]=x_train[i][0]*x_train[i][0]\n",
    "    if (rand==0):\n",
    "        x_train[i][1]=np.random.uniform(-10000, 10000)\"\"\"\n",
    "plt.plot(x_train[:, 0], x_train[:, 1])     \n",
    "plt.show()"
   ]
  },
  {
   "cell_type": "code",
   "execution_count": null,
   "metadata": {},
   "outputs": [],
   "source": [
    "x = [0]*training_size\n",
    "y = [0]*training_size\n",
    "color = [0]*training_size\n",
    "for i in range (training_size):\n",
    "    x[i] = x_train[i][0]\n",
    "    y[i] = x_train[i][1]\n",
    "    if (y_train[0][i] ==1):\n",
    "        color[i]=1\n",
    " \n",
    "plt.scatter(x,y, c = color)\n",
    "y = [0]*training_size\n",
    "color = [0]*training_size\n",
    "for i in range (training_size):\n",
    "    x[i] = x_train[i][0]\n",
    "    y[i] = x_train[i][1]\n",
    "    if (y_train[0][i]==1):\n",
    "        color[i]=4\n",
    " \n",
    "plt.scatter(x,y, c = color)"
   ]
  },
  {
   "cell_type": "code",
   "execution_count": null,
   "metadata": {},
   "outputs": [],
   "source": [
    "def generator(latent_dim, n_outputs):\n",
    "    generator = Sequential()\n",
    "    generator.add(Dense(15, activation='relu', kernel_initializer='he_uniform', input_dim=latent_dim))\n",
    "    generator.add(Dense(15, activation='relu', kernel_initializer='he_uniform'))\n",
    "    generator.add(Dense(n_outputs, activation='linear'))\n",
    "    return generator"
   ]
  },
  {
   "cell_type": "code",
   "execution_count": null,
   "metadata": {},
   "outputs": [],
   "source": [
    "def define_gan(generator, discriminator):\n",
    "    # make weights in the discriminator not trainable\n",
    "    discriminator.trainable = False\n",
    "    gan_input = Input(shape=(latent_dim,))\n",
    "    # the output of the generator \n",
    "    x = generator(gan_input)\n",
    "    # get the output of the discriminator \n",
    "    gan_output = discriminator(x)\n",
    "    gan = Model(inputs=gan_input, outputs=gan_output)\n",
    "    # connect them\n",
    "    model = Sequential()\n",
    "    # add generator\n",
    "    model.add(generator)\n",
    "    # add the discriminator\n",
    "    model.add(discriminator)\n",
    "    # compile model\n",
    "    model.compile(loss='binary_crossentropy', optimizer='adam')\n",
    "    return gan_model"
   ]
  },
  {
   "cell_type": "code",
   "execution_count": null,
   "metadata": {},
   "outputs": [],
   "source": [
    "n_outputs=2\n",
    "n_inputs=2\n",
    "generator = generator(latent_dim, n_outputs)\n",
    "discriminator = discriminator(n_inputs)\n",
    "gan = define_gan(discriminator, latent_dim, generator)\n",
    "\n",
    "noise = np.random.normal(0, 1, size=[1, latent_dim])\n",
    "generated = generator.predict(noise)\n",
    "X = np.concatenate([1, generated])\n",
    "\n",
    "# Train discriminator\n",
    "discriminator.trainable = True\n",
    "discriminator.train_on_batch(x_train, y_train)\n",
    "\n",
    "# Train generator\n",
    "noise = np.random.normal(0, 1, size=[batch_size, random_dim])\n",
    "y_gen = np.ones(batch_size)\n",
    "discriminator.trainable = False\n",
    "gan.train_on_batch(noise, y_gen)"
   ]
  },
  {
   "cell_type": "code",
   "execution_count": null,
   "metadata": {},
   "outputs": [],
   "source": [
    "from PIL import Image\n",
    "import imageio\n",
    "\n",
    "gan_model.load_weights(\"output/gan_initial.h5\")\n",
    "images = []\n",
    "epochs_total = 20000\n",
    "frames = 100\n",
    "for i in range (1, frames):\n",
    "    train(generator_model, model, gan_model, 5, n_epochs = int(epochs_total / frames))\n",
    "    summarize_performance(generator_model, 5, savename = \"output/tmp.png\")\n",
    "    plt.cla()\n",
    "    image = Image.open(\"output/tmp.png\")\n",
    "    ar = np.asarray(image)\n",
    "    images.append(ar)\n",
    "kargs = { 'duration': 0.1 }\n",
    "imageio.mimsave('output/gan_learning.gif', images, None, **kargs)"
   ]
  },
  {
   "cell_type": "code",
   "execution_count": null,
   "metadata": {},
   "outputs": [],
   "source": [
    "a=random.uniform(-5, 5)\n",
    "(x_right, y_right) = (a, a*a)\n",
    "print(x_right, y_right)"
   ]
  },
  {
   "cell_type": "code",
   "execution_count": null,
   "metadata": {},
   "outputs": [],
   "source": []
  },
  {
   "cell_type": "code",
   "execution_count": null,
   "metadata": {},
   "outputs": [],
   "source": []
  },
  {
   "cell_type": "code",
   "execution_count": null,
   "metadata": {},
   "outputs": [],
   "source": []
  }
 ],
 "metadata": {
  "kernelspec": {
   "display_name": "Python 3",
   "language": "python",
   "name": "python3"
  },
  "language_info": {
   "codemirror_mode": {
    "name": "ipython",
    "version": 3
   },
   "file_extension": ".py",
   "mimetype": "text/x-python",
   "name": "python",
   "nbconvert_exporter": "python",
   "pygments_lexer": "ipython3",
   "version": "3.6.9"
  }
 },
 "nbformat": 4,
 "nbformat_minor": 2
}
